{
 "cells": [
  {
   "cell_type": "markdown",
   "id": "6b1f3b2b-10a2-4e01-8c69-ec5b60508dfb",
   "metadata": {},
   "source": [
    "[![Open In Colab](https://colab.research.google.com/assets/colab-badge.svg)](https://colab.research.google.com/github/sagar87/MeyerBender/spatialproteomics_workshop/blob/main/notebooks/workshop02_task.ipynb)"
   ]
  },
  {
   "cell_type": "markdown",
   "id": "d9c36173-b597-4b67-90e1-679fef4499f2",
   "metadata": {},
   "source": [
    "# Downstream analysis of spatial proteomics data\n",
    "\n",
    "In the previous exercise, you have seen which steps are required to transform high-dimensional image data into something more workable, such as a list of cells with associated cell types.\n",
    "This is the prerequisite for any meaningful downstream analysis, the goal of which it is to find spatial patterns associated with a readout of interest, such as patient survival.\n",
    "Here, we explore how one can go from individual cell types to constructing neighborhood profiles."
   ]
  },
  {
   "cell_type": "code",
   "execution_count": null,
   "id": "4ad486fa-9c88-4c62-acc5-f69e1b92a571",
   "metadata": {},
   "outputs": [],
   "source": [
    "# download the data\n",
    "# if you have already run this cell once, there is no need to run it again\n",
    "\n",
    "# use this when running on colab\n",
    "! wget https://www.huber.embl.de/users/matthias/spatialproteomics_workshop_data.tar.gz /content/spatialproteomics_workshop_data.tar.gz\n",
    "! tar -xzf /content/spatialproteomics_workshop_data.tar.gz\n",
    "! pip install spatialproteomics==0.5.6\n",
    "! pip install squidpy==1.2.2\n",
    "data_dir = '/content/data'\n",
    "\n",
    "# use this when running locally\n",
    "#! wget https://www.huber.embl.de/users/matthias/spatialproteomics_workshop_data.tar.gz spatialproteomics_workshop_data.tar.gz\n",
    "#! tar -xzf spatialproteomics_workshop_data.tar.gz\n",
    "#data_dir = 'data'"
   ]
  },
  {
   "cell_type": "code",
   "execution_count": null,
   "id": "8b9c452e-af44-4fbd-9757-1e2ef8fbd897",
   "metadata": {
    "tags": []
   },
   "outputs": [],
   "source": [
    "%reload_ext autoreload\n",
    "%autoreload 2\n",
    "\n",
    "import xarray as xr\n",
    "import spatialproteomics as sp\n",
    "import matplotlib.pyplot as plt\n",
    "import scanpy as sc\n",
    "from tqdm.auto import tqdm\n",
    "from glob import glob\n",
    "import seaborn as sns\n",
    "import os"
   ]
  },
  {
   "cell_type": "markdown",
   "id": "6160fd5e-2ec7-48a9-8432-726ec8fe0eab",
   "metadata": {},
   "source": [
    "## Reading in files\n",
    "Let's look at some lymph nodes. Segmentation and cell type prediction was already performed on this data, so we can simply read in the zarr files."
   ]
  },
  {
   "cell_type": "code",
   "execution_count": null,
   "id": "ea03a052-9f2e-4470-a97c-67a5351c9da0",
   "metadata": {
    "tags": []
   },
   "outputs": [],
   "source": [
    "channels = ['PAX5', 'CD3', 'CD11b', 'CD11c', 'CD15', 'CD68', 'Podoplanin', 'CD31', 'CD34', 'CD90', 'CD56']\n",
    "quantiles = [0.8, 0.5, 0.8, 0.8, 0.8, 0.8, 0.95, 0.95, 0.95, 0.95, 0.8]\n",
    "colors = ['#e6194B', '#3cb44b', '#ffe119', '#4363d8', '#ffd8b1', '#f58231', '#911eb4', '#fffac8', '#469990', '#fabed4', '#9A6324']\n",
    "ct_marker_dict = {'B': 'PAX5', 'T': 'CD3', 'Myeloid': 'CD11b', 'Dendritic': 'CD11c', 'Granulo': 'CD15', 'Macro': 'CD68', 'Stroma PDPN': 'Podoplanin', 'Stroma CD31': 'CD31', 'Stroma CD34': 'CD34', 'Stroma CD90': 'CD90', 'NK': 'CD56'}"
   ]
  },
  {
   "cell_type": "code",
   "execution_count": null,
   "id": "ef509616-60c1-431d-bec9-156dc56fc1b9",
   "metadata": {
    "tags": []
   },
   "outputs": [],
   "source": [
    "# reading all of the images into a dictionary\n",
    "\n",
    "sd_dict = {}\n",
    "for sample_path in glob(os.path.join(data_dir, 'zarrs/*.zarr')):\n",
    "    sample_id = sample_path.split('/')[-1].replace(\".zarr\", \"\")\n",
    "    sd_dict[sample_id] = xr.open_dataset(sample_path, engine='zarr')"
   ]
  },
  {
   "cell_type": "code",
   "execution_count": null,
   "id": "ab216cfd-2c53-4b7d-b3a2-d47e4f69c2ff",
   "metadata": {
    "tags": []
   },
   "outputs": [],
   "source": [
    "# TODO: go through each sample and plot the intensities and the cell type predictions next to one another"
   ]
  },
  {
   "cell_type": "markdown",
   "id": "eb9076f3-53fa-42a1-a744-28fba2714b4f",
   "metadata": {},
   "source": [
    "## Exploration of marker profiles\n",
    "Before we do any neighborhood analysis, let's verify that our cell type annotations are somewhat sensible. We can for example do this by plotting the expression matrix or UMAP of every sample. There are many ways to do this, however `scanpy` has become one of the most useful frameworks for this purpose. `Spatialproteomics` provides export functions to interact with other packages. Let's convert our `spatialproteomics` objects into `anndata` objects and use `scanpy` for a preliminary analysis."
   ]
  },
  {
   "cell_type": "code",
   "execution_count": null,
   "id": "2dc01f66-45a8-4890-a749-435ebba44e0f",
   "metadata": {
    "tags": []
   },
   "outputs": [],
   "source": [
    "adata_dict = {}\n",
    "for sample_id, sd_obj in sd_dict.items():\n",
    "    # converting to anndata and performing umap computation\n",
    "    adata = sd_obj.tl.convert_to_anndata()\n",
    "    sc.pp.neighbors(adata)  # Compute neighbors\n",
    "    sc.tl.umap(adata)       # Compute UMAP\n",
    "    adata_dict[sample_id] = adata"
   ]
  },
  {
   "cell_type": "code",
   "execution_count": null,
   "id": "3641a9de-ada5-494f-99ea-20aedf69601b",
   "metadata": {
    "tags": []
   },
   "outputs": [],
   "source": [
    "# TODO: look at the scanpy documentation and use their heatmap and umap functions to visualize the marker profiles"
   ]
  },
  {
   "cell_type": "markdown",
   "id": "07bb2867-dad1-414c-852e-b8f6ee7d10ac",
   "metadata": {
    "tags": []
   },
   "source": [
    "## Defining neighborhoods\n",
    "Next up, we can define cellular neighborhoods. This boils down to two steps. \n",
    "\n",
    "In the first step, we count all cells within a specified radius of a cell. For example, if we look at cell A, we count all cells in a radius of 50 microns, and note down their relative frequencies. So instead of saying that a cell is a B cell, we can now say that it is in a neighborhood with 80% B cells and 20% T cells.\n",
    "\n",
    "Once we have those neighborhood profiles, we can cluster them across all samples. There are many ways to do this, but in order to keep things simple, we only look at k-mean clustering here."
   ]
  },
  {
   "cell_type": "code",
   "execution_count": null,
   "id": "614fbf95-a631-4f87-baa4-6ea16354443e",
   "metadata": {
    "tags": []
   },
   "outputs": [],
   "source": [
    "from scipy.spatial import KDTree\n",
    "import pandas as pd\n",
    "\n",
    "# radius is in pixels here, each pixel is 0.5 microns across\n",
    "def construct_neighborhood_df(df, x='centroid-1', y='centroid-0', label_col='_labels', radius=100):\n",
    "    # Build KDTree for efficient neighborhood queries\n",
    "    tree = KDTree(df[[x, y]])\n",
    "\n",
    "    # Initialize a DataFrame to store the neighborhood counts\n",
    "    cell_types = df[label_col].unique()\n",
    "    neighborhood_profile = pd.DataFrame(0, index=range(len(df)), columns=cell_types)\n",
    "    \n",
    "    # resetting the index to start from 0, makes accessing with loc easier\n",
    "    original_index = df.index\n",
    "    df = df.reset_index()\n",
    "\n",
    "    # Iterate over each cell\n",
    "    for i in range(len(df)):\n",
    "        # Query the KDTree for neighbors within the radius\n",
    "        indices = tree.query_ball_point(df.loc[i, [x, y]], r=radius)\n",
    "\n",
    "        # Remove the cell itself from the neighbors list\n",
    "        indices = [idx for idx in indices if idx != i]\n",
    "\n",
    "        # Count the cell types of the neighbors\n",
    "        neighbor_counts = df.loc[indices, label_col].value_counts()\n",
    "\n",
    "        # Update the neighborhood profile for the current cell\n",
    "        for cell_type, count in neighbor_counts.items():\n",
    "            neighborhood_profile.at[i, cell_type] = count\n",
    "\n",
    "    # Normalize the neighborhood profile so that each row sums to 1\n",
    "    neighborhood_profile = neighborhood_profile.div(neighborhood_profile.sum(axis=1), axis=0)\n",
    "    \n",
    "    # Add the centroids back to the neighborhood profile\n",
    "    neighborhood_profile[x] = df[x]\n",
    "    neighborhood_profile[y] = df[y]\n",
    "    \n",
    "    # setting the index back to the original ones\n",
    "    neighborhood_profile.index = original_index\n",
    "\n",
    "    return neighborhood_profile"
   ]
  },
  {
   "cell_type": "code",
   "execution_count": null,
   "id": "1ee6b50b-be51-4342-90a2-a35236aed4c6",
   "metadata": {
    "tags": []
   },
   "outputs": [],
   "source": [
    "neighborhood_dfs = []\n",
    "\n",
    "for sample_id, ds in tqdm(sd_dict.items()):\n",
    "    spatial_df = ds.pp.get_layer_as_df()\n",
    "    neighborhood_df = construct_neighborhood_df(spatial_df, radius=100)\n",
    "    # adding the sample and cell index to the df\n",
    "    neighborhood_df['cell'] = neighborhood_df.index\n",
    "    neighborhood_df['sample'] = sample_id\n",
    "    neighborhood_dfs.append(neighborhood_df)\n",
    "\n",
    "big_neighborhood_df = pd.concat(neighborhood_dfs, ignore_index=True)\n",
    "\n",
    "# it can happen that a cell type was not present in a sample\n",
    "# in this case, the value will be NaN\n",
    "# we replace those with 0\n",
    "big_neighborhood_df = big_neighborhood_df.fillna(0)"
   ]
  },
  {
   "cell_type": "code",
   "execution_count": null,
   "id": "e8c5f7d4-38da-40d1-891d-56c3dfefcca8",
   "metadata": {
    "tags": []
   },
   "outputs": [],
   "source": [
    "big_neighborhood_df"
   ]
  },
  {
   "cell_type": "code",
   "execution_count": null,
   "id": "9d1ae5cd-2b16-4901-8518-25d149c9f24b",
   "metadata": {
    "tags": []
   },
   "outputs": [],
   "source": [
    "# Select columns for clustering (exclude 'cell' and 'sample')\n",
    "features = big_neighborhood_df.drop(columns=['cell', 'sample', 'centroid-0', 'centroid-1'])\n",
    "features.head()"
   ]
  },
  {
   "cell_type": "code",
   "execution_count": null,
   "id": "383260df-87d2-4678-a919-e963444013fb",
   "metadata": {
    "tags": []
   },
   "outputs": [],
   "source": [
    "from sklearn.cluster import KMeans\n",
    "\n",
    "# TODO: run the k-means algorithm on the 'features' data frame. Put the cluster labels into the big_neighborhood_df\n",
    "# Experiment with different k's."
   ]
  },
  {
   "cell_type": "code",
   "execution_count": null,
   "id": "2b3ec357-4084-4941-9f6c-3db208a4b501",
   "metadata": {
    "tags": []
   },
   "outputs": [],
   "source": [
    "# TODO: compute the mean expression of each cluster and plot it as a heatmap (e. g. using seaborn)"
   ]
  },
  {
   "cell_type": "code",
   "execution_count": null,
   "id": "c072d1f9-0ee4-458b-bb74-bb0e3609d078",
   "metadata": {
    "tags": []
   },
   "outputs": [],
   "source": [
    "# TODO: at this point, big_neighborhood_df contains sample_id, centroid-1, centroid-0, and your neighborhood labels\n",
    "# plot the centroids as a scatterplot (e. g. using seaborn) and color them according to the neighborhood. What do you observe?"
   ]
  },
  {
   "cell_type": "code",
   "execution_count": null,
   "id": "a38d294b-5cce-4d51-ad70-2245a7217d50",
   "metadata": {
    "tags": []
   },
   "outputs": [],
   "source": [
    "# TODO: how meaningful are our clusters? Try computing a PCA on the features and color the points according to the neighborhood."
   ]
  },
  {
   "cell_type": "markdown",
   "id": "d7eb6bb4-f533-4db6-b1dd-62184011b273",
   "metadata": {},
   "source": [
    "## Additional analysis with squidpy\n",
    "There are plenty of tools to analyse spatial data these days. Let's briefly look at how to use squidpy to create a neighborhood enrichment."
   ]
  },
  {
   "cell_type": "code",
   "execution_count": null,
   "id": "306867e1-0247-40c8-9bc7-5e486caabe39",
   "metadata": {
    "tags": []
   },
   "outputs": [],
   "source": [
    "# this is only on a single sample, you could also concatenate the adata objects to get a more global view\n",
    "import squidpy as sq\n",
    "\n",
    "adata = adata_dict['166_1_H3_LK'].copy()"
   ]
  },
  {
   "cell_type": "code",
   "execution_count": null,
   "id": "108c32b2-b89f-4516-a239-40b6bf143732",
   "metadata": {
    "tags": []
   },
   "outputs": [],
   "source": [
    "# formatting the anndata object. This is required for squidpy to work properly\n",
    "adata.obsm['spatial'] = np.array(adata.obs[['centroid-0', 'centroid-1']])"
   ]
  },
  {
   "cell_type": "code",
   "execution_count": null,
   "id": "a18086b8-0062-4667-9064-b94659deb723",
   "metadata": {},
   "outputs": [],
   "source": [
    "# TODO: use squidpy to perform a neighborhood enrichment. Look into other possible downstream methods offered by squidpy."
   ]
  }
 ],
 "metadata": {
  "kernelspec": {
   "display_name": "Python 3 (ipykernel)",
   "language": "python",
   "name": "python3"
  },
  "language_info": {
   "codemirror_mode": {
    "name": "ipython",
    "version": 3
   },
   "file_extension": ".py",
   "mimetype": "text/x-python",
   "name": "python",
   "nbconvert_exporter": "python",
   "pygments_lexer": "ipython3",
   "version": "3.11.10"
  }
 },
 "nbformat": 4,
 "nbformat_minor": 5
}
